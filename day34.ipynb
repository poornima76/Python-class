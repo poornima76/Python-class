{
 "cells": [
  {
   "cell_type": "markdown",
   "id": "e73dff26",
   "metadata": {},
   "source": [
    "# Copies and Veiws in numpy \n"
   ]
  },
  {
   "cell_type": "markdown",
   "id": "1a1bb094",
   "metadata": {},
   "source": [
    "numpy array contains two: contigious data buffer with actual data elements  and metadata (extra info of data)\n",
    "metadata contains type, stride and other useful information that helps to manipulate the ndarray"
   ]
  }
 ],
 "metadata": {
  "kernelspec": {
   "display_name": "base",
   "language": "python",
   "name": "python3"
  },
  "language_info": {
   "codemirror_mode": {
    "name": "ipython",
    "version": 3
   },
   "file_extension": ".py",
   "mimetype": "text/x-python",
   "name": "python",
   "nbconvert_exporter": "python",
   "pygments_lexer": "ipython3",
   "version": "3.9.12"
  },
  "vscode": {
   "interpreter": {
    "hash": "38cca0c38332a56087b24af0bc80247f4fced29cb4f7f437d91dc159adec9c4e"
   }
  }
 },
 "nbformat": 4,
 "nbformat_minor": 5
}
