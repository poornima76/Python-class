{
 "cells": [
  {
   "cell_type": "code",
   "execution_count": 1,
   "id": "73197f89",
   "metadata": {},
   "outputs": [],
   "source": [
    "import numpy as np"
   ]
  },
  {
   "cell_type": "code",
   "execution_count": 2,
   "id": "23a3463a",
   "metadata": {},
   "outputs": [
    {
     "data": {
      "text/plain": [
       "array([1., 1.])"
      ]
     },
     "execution_count": 2,
     "metadata": {},
     "output_type": "execute_result"
    }
   ],
   "source": [
    "np.ones(2)"
   ]
  },
  {
   "cell_type": "code",
   "execution_count": 3,
   "id": "c45c5bdd",
   "metadata": {},
   "outputs": [
    {
     "data": {
      "text/plain": [
       "array([[1., 1., 1.],\n",
       "       [1., 1., 1.]])"
      ]
     },
     "execution_count": 3,
     "metadata": {},
     "output_type": "execute_result"
    }
   ],
   "source": [
    "np.ones((2,3))"
   ]
  },
  {
   "cell_type": "code",
   "execution_count": 5,
   "id": "af768b8a",
   "metadata": {},
   "outputs": [
    {
     "data": {
      "text/plain": [
       "array([[1, 1, 1],\n",
       "       [1, 1, 1]], dtype=int8)"
      ]
     },
     "execution_count": 5,
     "metadata": {},
     "output_type": "execute_result"
    }
   ],
   "source": [
    "np.ones((2,3), dtype = 'int8')"
   ]
  },
  {
   "cell_type": "code",
   "execution_count": 6,
   "id": "a768fe6a",
   "metadata": {},
   "outputs": [
    {
     "data": {
      "text/plain": [
       "array([[[1., 1., 1.],\n",
       "        [1., 1., 1.],\n",
       "        [1., 1., 1.]],\n",
       "\n",
       "       [[1., 1., 1.],\n",
       "        [1., 1., 1.],\n",
       "        [1., 1., 1.]]])"
      ]
     },
     "execution_count": 6,
     "metadata": {},
     "output_type": "execute_result"
    }
   ],
   "source": [
    "np.ones((2,3,3))"
   ]
  },
  {
   "cell_type": "code",
   "execution_count": null,
   "id": "9791e978",
   "metadata": {},
   "outputs": [],
   "source": [
    "np.zeros(2)"
   ]
  },
  {
   "cell_type": "code",
   "execution_count": 9,
   "id": "30ed7a20",
   "metadata": {},
   "outputs": [
    {
     "data": {
      "text/plain": [
       "array([[1., 0.],\n",
       "       [0., 1.]])"
      ]
     },
     "execution_count": 9,
     "metadata": {},
     "output_type": "execute_result"
    }
   ],
   "source": [
    "np.eye(2)"
   ]
  },
  {
   "cell_type": "code",
   "execution_count": 10,
   "id": "73ae2494",
   "metadata": {},
   "outputs": [
    {
     "data": {
      "text/plain": [
       "array([[1., 0., 0., 0.],\n",
       "       [0., 1., 0., 0.],\n",
       "       [0., 0., 1., 0.],\n",
       "       [0., 0., 0., 1.],\n",
       "       [0., 0., 0., 0.]])"
      ]
     },
     "execution_count": 10,
     "metadata": {},
     "output_type": "execute_result"
    }
   ],
   "source": [
    "np.eye(5,4)"
   ]
  },
  {
   "cell_type": "code",
   "execution_count": 11,
   "id": "74bfe9e4",
   "metadata": {},
   "outputs": [
    {
     "data": {
      "text/plain": [
       "array([[0, 1, 0, 0],\n",
       "       [0, 0, 1, 0],\n",
       "       [0, 0, 0, 1],\n",
       "       [0, 0, 0, 0],\n",
       "       [0, 0, 0, 0]], dtype=int8)"
      ]
     },
     "execution_count": 11,
     "metadata": {},
     "output_type": "execute_result"
    }
   ],
   "source": [
    "np.eye(5,4, dtype='int8',k=1)"
   ]
  },
  {
   "cell_type": "markdown",
   "id": "ed54b987",
   "metadata": {},
   "source": [
    "k=1 moves the no of 1's to the upper diagonal and k=-1 moves the no of 1's to the lower diagonal\n",
    "\n",
    "np.eye is a psuedo identity matrix, which puts 1's in the diagonal and 0's in other "
   ]
  },
  {
   "cell_type": "code",
   "execution_count": 12,
   "id": "17ac0bf3",
   "metadata": {},
   "outputs": [
    {
     "data": {
      "text/plain": [
       "array([[1, 0],\n",
       "       [0, 1]], dtype=int8)"
      ]
     },
     "execution_count": 12,
     "metadata": {},
     "output_type": "execute_result"
    }
   ],
   "source": [
    "np.identity(2, dtype='int8')"
   ]
  },
  {
   "cell_type": "markdown",
   "id": "0b0c6dc2",
   "metadata": {},
   "source": [
    "np.full() it returns a new return type with fill value"
   ]
  },
  {
   "cell_type": "code",
   "execution_count": 13,
   "id": "fcbb4a90",
   "metadata": {},
   "outputs": [
    {
     "data": {
      "text/plain": [
       "array([10, 10, 10, 10, 10])"
      ]
     },
     "execution_count": 13,
     "metadata": {},
     "output_type": "execute_result"
    }
   ],
   "source": [
    "np.full(5,10)"
   ]
  },
  {
   "cell_type": "markdown",
   "id": "c88da9f6",
   "metadata": {},
   "source": [
    "np.full takes two arguments shape and fill_value"
   ]
  },
  {
   "cell_type": "markdown",
   "id": "3b9aa79f",
   "metadata": {},
   "source": [
    "5 means row and 10 means fill the 5 rows with 10 "
   ]
  },
  {
   "cell_type": "code",
   "execution_count": 14,
   "id": "fe1fef29",
   "metadata": {},
   "outputs": [
    {
     "data": {
      "text/plain": [
       "array([[10, 10, 10],\n",
       "       [10, 10, 10],\n",
       "       [10, 10, 10],\n",
       "       [10, 10, 10],\n",
       "       [10, 10, 10]])"
      ]
     },
     "execution_count": 14,
     "metadata": {},
     "output_type": "execute_result"
    }
   ],
   "source": [
    "np.full((5,3),10)"
   ]
  },
  {
   "cell_type": "markdown",
   "id": "96ad04bb",
   "metadata": {},
   "source": [
    "giving rows and column in a tuple makes it a 2D array"
   ]
  },
  {
   "cell_type": "code",
   "execution_count": 15,
   "id": "899170d5",
   "metadata": {},
   "outputs": [
    {
     "data": {
      "text/plain": [
       "array([[1., 1., 1.],\n",
       "       [1., 1., 1.]])"
      ]
     },
     "execution_count": 15,
     "metadata": {},
     "output_type": "execute_result"
    }
   ],
   "source": [
    "np.empty((2,3))"
   ]
  },
  {
   "cell_type": "markdown",
   "id": "85d9dd50",
   "metadata": {},
   "source": [
    "np.empty gives a shape and gives out random value\n"
   ]
  },
  {
   "cell_type": "code",
   "execution_count": 17,
   "id": "2e8f6366",
   "metadata": {},
   "outputs": [
    {
     "data": {
      "text/plain": [
       "array([[1., 1.],\n",
       "       [1., 1.],\n",
       "       [1., 1.]])"
      ]
     },
     "execution_count": 17,
     "metadata": {},
     "output_type": "execute_result"
    }
   ],
   "source": [
    "np.empty((3,2))"
   ]
  },
  {
   "cell_type": "code",
   "execution_count": 19,
   "id": "f2298add",
   "metadata": {},
   "outputs": [
    {
     "data": {
      "text/plain": [
       "array([0, 1, 2, 3, 4, 5, 6, 7, 8, 9])"
      ]
     },
     "execution_count": 19,
     "metadata": {},
     "output_type": "execute_result"
    }
   ],
   "source": [
    "np.arange(10)"
   ]
  },
  {
   "cell_type": "code",
   "execution_count": 20,
   "id": "5c5f1b07",
   "metadata": {},
   "outputs": [
    {
     "data": {
      "text/plain": [
       "array([10.        , 10.81632653, 11.63265306, 12.44897959, 13.26530612,\n",
       "       14.08163265, 14.89795918, 15.71428571, 16.53061224, 17.34693878,\n",
       "       18.16326531, 18.97959184, 19.79591837, 20.6122449 , 21.42857143,\n",
       "       22.24489796, 23.06122449, 23.87755102, 24.69387755, 25.51020408,\n",
       "       26.32653061, 27.14285714, 27.95918367, 28.7755102 , 29.59183673,\n",
       "       30.40816327, 31.2244898 , 32.04081633, 32.85714286, 33.67346939,\n",
       "       34.48979592, 35.30612245, 36.12244898, 36.93877551, 37.75510204,\n",
       "       38.57142857, 39.3877551 , 40.20408163, 41.02040816, 41.83673469,\n",
       "       42.65306122, 43.46938776, 44.28571429, 45.10204082, 45.91836735,\n",
       "       46.73469388, 47.55102041, 48.36734694, 49.18367347, 50.        ])"
      ]
     },
     "execution_count": 20,
     "metadata": {},
     "output_type": "execute_result"
    }
   ],
   "source": [
    "np.linspace(10,50)"
   ]
  },
  {
   "cell_type": "code",
   "execution_count": 22,
   "id": "306284e4",
   "metadata": {},
   "outputs": [
    {
     "data": {
      "text/plain": [
       "(array([10.        , 10.78431373, 11.56862745, 12.35294118, 13.1372549 ,\n",
       "        13.92156863, 14.70588235, 15.49019608, 16.2745098 , 17.05882353,\n",
       "        17.84313725, 18.62745098, 19.41176471, 20.19607843, 20.98039216,\n",
       "        21.76470588, 22.54901961, 23.33333333, 24.11764706, 24.90196078,\n",
       "        25.68627451, 26.47058824, 27.25490196, 28.03921569, 28.82352941,\n",
       "        29.60784314, 30.39215686, 31.17647059, 31.96078431, 32.74509804,\n",
       "        33.52941176, 34.31372549, 35.09803922, 35.88235294, 36.66666667,\n",
       "        37.45098039, 38.23529412, 39.01960784, 39.80392157, 40.58823529,\n",
       "        41.37254902, 42.15686275, 42.94117647, 43.7254902 , 44.50980392,\n",
       "        45.29411765, 46.07843137, 46.8627451 , 47.64705882, 48.43137255,\n",
       "        49.21568627]),\n",
       " 0.7843137254901961)"
      ]
     },
     "execution_count": 22,
     "metadata": {},
     "output_type": "execute_result"
    }
   ],
   "source": [
    "np.linspace(10,50, endpoint=False, num=51, retstep=True) "
   ]
  },
  {
   "cell_type": "code",
   "execution_count": 23,
   "id": "b2194e03",
   "metadata": {},
   "outputs": [],
   "source": [
    "from numpy import random"
   ]
  },
  {
   "cell_type": "code",
   "execution_count": 24,
   "id": "6a48c532",
   "metadata": {},
   "outputs": [
    {
     "data": {
      "text/plain": [
       "2"
      ]
     },
     "execution_count": 24,
     "metadata": {},
     "output_type": "execute_result"
    }
   ],
   "source": [
    "random.randint(1,10)"
   ]
  },
  {
   "cell_type": "code",
   "execution_count": 26,
   "id": "e0ba043c",
   "metadata": {},
   "outputs": [
    {
     "data": {
      "text/plain": [
       "1"
      ]
     },
     "execution_count": 26,
     "metadata": {},
     "output_type": "execute_result"
    }
   ],
   "source": [
    "random.randint(10)"
   ]
  },
  {
   "cell_type": "markdown",
   "id": "577e005e",
   "metadata": {},
   "source": [
    "reset and 3D slicing in numpy"
   ]
  },
  {
   "cell_type": "code",
   "execution_count": 27,
   "id": "4a849e4b",
   "metadata": {},
   "outputs": [],
   "source": [
    "a = np.array([1,2,3,5.1])"
   ]
  },
  {
   "cell_type": "code",
   "execution_count": 28,
   "id": "6a599202",
   "metadata": {},
   "outputs": [
    {
     "data": {
      "text/plain": [
       "array([1. , 2. , 3. , 5.1])"
      ]
     },
     "execution_count": 28,
     "metadata": {},
     "output_type": "execute_result"
    }
   ],
   "source": [
    "a"
   ]
  },
  {
   "cell_type": "markdown",
   "id": "a46f9fcb",
   "metadata": {},
   "source": [
    "this is called upcasting, the numpy array searches for the higher data types for eg: float here and upcasts the int to float"
   ]
  },
  {
   "cell_type": "markdown",
   "id": "b38fb643",
   "metadata": {},
   "source": [
    "downcasting can also be done however it is not done because the data is lost"
   ]
  },
  {
   "cell_type": "code",
   "execution_count": 29,
   "id": "6d99b512",
   "metadata": {},
   "outputs": [],
   "source": [
    "from matplotlib import pyplot"
   ]
  },
  {
   "cell_type": "code",
   "execution_count": null,
   "id": "0d6cf226",
   "metadata": {},
   "outputs": [],
   "source": []
  }
 ],
 "metadata": {
  "kernelspec": {
   "display_name": "base",
   "language": "python",
   "name": "python3"
  },
  "language_info": {
   "codemirror_mode": {
    "name": "ipython",
    "version": 3
   },
   "file_extension": ".py",
   "mimetype": "text/x-python",
   "name": "python",
   "nbconvert_exporter": "python",
   "pygments_lexer": "ipython3",
   "version": "3.9.12"
  },
  "vscode": {
   "interpreter": {
    "hash": "38cca0c38332a56087b24af0bc80247f4fced29cb4f7f437d91dc159adec9c4e"
   }
  }
 },
 "nbformat": 4,
 "nbformat_minor": 5
}
